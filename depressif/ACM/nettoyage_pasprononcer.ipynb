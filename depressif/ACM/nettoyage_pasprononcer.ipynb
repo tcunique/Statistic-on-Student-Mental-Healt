{
 "cells": [
  {
   "cell_type": "code",
   "execution_count": 5,
   "metadata": {},
   "outputs": [
    {
     "name": "stdout",
     "output_type": "stream",
     "text": [
      "Nombre de lignes initiales : 252\n",
      "Nombre de lignes après filtrage : 186\n",
      "Les lignes ont été filtrées et enregistrées dans sante_mentale_prononcer.csv\n"
     ]
    }
   ],
   "source": [
    "import csv\n",
    "\n",
    "# Nom des fichiers\n",
    "input_filename = 'sante_mentale_regrouped.csv'\n",
    "output_filename = 'sante_mentale_prononcer.csv'\n",
    "\n",
    "# Valeurs à supprimer\n",
    "values_to_remove = [\"Ne pas se prononcer\", \"Ne veut pas se prononcer\",\"Ne veux pas se prononcer\",\"Ne pas répondre\"]\n",
    "\n",
    "# Initialisation des compteurs\n",
    "initial_count = 0\n",
    "final_count = 0\n",
    "\n",
    "# Ouverture du fichier CSV d'entrée\n",
    "with open(input_filename, mode='r', newline='', encoding='utf-8') as infile:\n",
    "    reader = csv.reader(infile)\n",
    "    header = next(reader)  # Lire l'en-tête\n",
    "    rows = list(reader)  # Lire toutes les lignes restantes\n",
    "    initial_count = len(rows)  # Compter les lignes initiales\n",
    "\n",
    "    # Filtrage des lignes\n",
    "    filtered_rows = [row for row in rows if not any(value in row for value in values_to_remove)]\n",
    "    final_count = len(filtered_rows)  # Compter les lignes après filtrage\n",
    "\n",
    "    # Préparation du fichier CSV de sortie\n",
    "    with open(output_filename, mode='w', newline='', encoding='utf-8') as outfile:\n",
    "        writer = csv.writer(outfile)\n",
    "        writer.writerow(header)  # Écrire l'en-tête\n",
    "        writer.writerows(filtered_rows)  # Écrire les lignes filtrées\n",
    "\n",
    "# Affichage des résultats\n",
    "print(f\"Nombre de lignes initiales : {initial_count}\")\n",
    "print(f\"Nombre de lignes après filtrage : {final_count}\")\n",
    "print(f\"Les lignes ont été filtrées et enregistrées dans {output_filename}\")\n"
   ]
  }
 ],
 "metadata": {
  "kernelspec": {
   "display_name": "Python 3",
   "language": "python",
   "name": "python3"
  },
  "language_info": {
   "codemirror_mode": {
    "name": "ipython",
    "version": 3
   },
   "file_extension": ".py",
   "mimetype": "text/x-python",
   "name": "python",
   "nbconvert_exporter": "python",
   "pygments_lexer": "ipython3",
   "version": "3.11.5"
  }
 },
 "nbformat": 4,
 "nbformat_minor": 2
}
